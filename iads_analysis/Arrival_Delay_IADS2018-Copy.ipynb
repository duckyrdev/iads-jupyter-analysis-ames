{
 "cells": [
  {
   "cell_type": "markdown",
   "metadata": {},
   "source": [
    "# Arrival Delay Data From Charlotte Douglas International Airport 2018"
   ]
  },
  {
   "cell_type": "code",
   "execution_count": 1,
   "metadata": {},
   "outputs": [],
   "source": [
    "import csv \n",
    "\n",
    "with open('aviation_data_science_2018.csv') as csvfile:\n",
    "    avv_data = list(csv.DictReader(csvfile))"
   ]
  },
  {
   "cell_type": "markdown",
   "metadata": {},
   "source": [
    "## Iterating through data to create dictionary:"
   ]
  },
  {
   "cell_type": "code",
   "execution_count": 2,
   "metadata": {},
   "outputs": [],
   "source": [
    "temp_list1 = []\n",
    "temp_list2 = []\n",
    "count = 0\n",
    "for n in range(0, len(avv_data), 4):\n",
    "    temp_dict = avv_data[n]\n",
    "    date = temp_dict[\"arrival_stand_scheduled_time\"]\n",
    "    date = date[5:10]\n",
    "    date = str(date.replace(\"-\",\"\"))\n",
    "    temp_list1.append(date)\n",
    "    try:\n",
    "        temp_string = temp_dict[\"arrival_stand_scheduled_time\"]\n",
    "        temp_string = temp_string[11:len(temp_string)]\n",
    "        temp_float = str(float(temp_string.replace(\":\",\"\")))\n",
    "        temp_float = float(temp_float[0:2])*60 + float(temp_float[2:4]) + float(temp_float[4:6])/60\n",
    "        \n",
    "        temp_string2 = temp_dict[\"arrival_stand_actual_time\"]\n",
    "        temp_string2 = temp_string2[11:len(temp_string2)]\n",
    "        temp_float2 = str(float(temp_string2.replace(\":\",\"\")))\n",
    "        temp_float2 = float(temp_float2[0:2])*60 + float(temp_float2[2:4]) + float(temp_float2[4:6])/60\n",
    "        \n",
    "        temp_float3 = temp_float2 - temp_float\n",
    "        #temp_float3 = \"{:.4f}\".format(round(temp_float, 4))\n",
    "        temp_list2.append(temp_float3)\n",
    "    except ValueError:\n",
    "        temp_list1.remove(date)\n",
    "    if (len(temp_list1) == 63511):\n",
    "        break"
   ]
  },
  {
   "cell_type": "markdown",
   "metadata": {},
   "source": [
    "## Putting dictionary in pandas datatable: "
   ]
  },
  {
   "cell_type": "code",
   "execution_count": 3,
   "metadata": {},
   "outputs": [],
   "source": [
    "import numpy as np\n",
    "import pandas as pd\n",
    "import matplotlib.pyplot as plt\n",
    "%matplotlib inline"
   ]
  },
  {
   "cell_type": "code",
   "execution_count": 4,
   "metadata": {},
   "outputs": [],
   "source": [
    "count = 0\n",
    "for n in range(0, len(temp_list1)):\n",
    "    temp_list1[n] = count\n",
    "    count += 1\n",
    "dict_data = {\"flight\": temp_list1,\n",
    "            \"difference\": temp_list2}\n",
    "\n",
    "usable_data = pd.DataFrame(data=dict_data)\n",
    "#usable_data"
   ]
  },
  {
   "cell_type": "markdown",
   "metadata": {},
   "source": [
    "## Plotting data using matplotlibs:"
   ]
  },
  {
   "cell_type": "code",
   "execution_count": 5,
   "metadata": {},
   "outputs": [],
   "source": [
    "x = usable_data.flight\n",
    "y = usable_data.difference"
   ]
  },
  {
   "cell_type": "code",
   "execution_count": 6,
   "metadata": {},
   "outputs": [],
   "source": [
    "#plt.scatter(x,y, marker=\"o\", alpha=0.4, s=20)\n",
    "#plt.xlabel(\"flight number\")\n",
    "#plt.ylabel(\"time difference\")\n",
    "#plt.plot([-100, 100000], [0, 0], 'b') # function for ideal line (y=0)"
   ]
  },
  {
   "cell_type": "markdown",
   "metadata": {},
   "source": [
    "## Machine learning regression:"
   ]
  },
  {
   "cell_type": "code",
   "execution_count": 7,
   "metadata": {},
   "outputs": [],
   "source": [
    "model = np.polyfit(x, y, 3)\n",
    "#model"
   ]
  },
  {
   "cell_type": "code",
   "execution_count": 8,
   "metadata": {},
   "outputs": [],
   "source": [
    "predict = np.poly1d(model)"
   ]
  },
  {
   "cell_type": "markdown",
   "metadata": {},
   "source": [
    "## Regression estimation for given x value:"
   ]
  },
  {
   "cell_type": "code",
   "execution_count": 9,
   "metadata": {},
   "outputs": [
    {
     "data": {
      "text/plain": [
       "19.732526176662525"
      ]
     },
     "execution_count": 9,
     "metadata": {},
     "output_type": "execute_result"
    }
   ],
   "source": [
    "flight_number = 80000\n",
    "predict(flight_number)"
   ]
  },
  {
   "cell_type": "markdown",
   "metadata": {},
   "source": [
    "## Linear regression viability r2 score (how close data is to regression):"
   ]
  },
  {
   "cell_type": "code",
   "execution_count": 10,
   "metadata": {},
   "outputs": [],
   "source": [
    "from sklearn.metrics import r2_score\n",
    "#r2_score(y, predict(x))"
   ]
  },
  {
   "cell_type": "markdown",
   "metadata": {},
   "source": [
    "## Plotting regression and data:"
   ]
  },
  {
   "cell_type": "code",
   "execution_count": 11,
   "metadata": {},
   "outputs": [],
   "source": [
    "x_lin_reg = range(0, 100000)\n",
    "y_lin_reg = predict(x_lin_reg)\n",
    "#plt.scatter(x, y, marker=\"o\", alpha=0.4, s=20)\n",
    "#plt.xlabel(\"number of flights\")\n",
    "#plt.ylabel(\"time difference (min)\")\n",
    "#plt.plot(x_lin_reg, y_lin_reg, c = 'r')\n",
    "#plt.plot([0, 100000], [0, 0], 'b')"
   ]
  },
  {
   "cell_type": "code",
   "execution_count": 12,
   "metadata": {},
   "outputs": [],
   "source": [
    "#x_lin_reg = range(0, 100000)\n",
    "#y_lin_reg = predict(x_lin_reg)\n",
    "#plt.scatter(x, y, marker=\"o\", alpha=0.4, s=20)\n",
    "#plt.xlabel(\"number of flights\")\n",
    "#plt.ylabel(\"time difference (min)\")\n",
    "#plt.ylim(-1000, 1000)\n",
    "#plt.plot(x_lin_reg, y_lin_reg, c = 'r')\n",
    "#plt.plot([0, 100000], [0, 0], 'b')"
   ]
  }
 ],
 "metadata": {
  "kernelspec": {
   "display_name": "Python 3",
   "language": "python",
   "name": "python3"
  },
  "language_info": {
   "codemirror_mode": {
    "name": "ipython",
    "version": 3
   },
   "file_extension": ".py",
   "mimetype": "text/x-python",
   "name": "python",
   "nbconvert_exporter": "python",
   "pygments_lexer": "ipython3",
   "version": "3.8.3"
  }
 },
 "nbformat": 4,
 "nbformat_minor": 4
}
