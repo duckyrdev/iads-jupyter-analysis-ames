{
 "cells": [
  {
   "cell_type": "markdown",
   "metadata": {},
   "source": [
    "# NAS Delay in Charlotte Douglas International Airport"
   ]
  },
  {
   "cell_type": "code",
   "execution_count": 1,
   "metadata": {},
   "outputs": [],
   "source": [
    "import csv \n",
    "\n",
    "with open('CLT_Data.csv') as csvfile:\n",
    "    CLT_Data = list(csv.DictReader(csvfile))"
   ]
  },
  {
   "cell_type": "markdown",
   "metadata": {},
   "source": [
    "## Iterating through data to create dictionary:"
   ]
  },
  {
   "cell_type": "code",
   "execution_count": 2,
   "metadata": {},
   "outputs": [],
   "source": [
    "temp_list1 = []\n",
    "temp_list2 = []\n",
    "for n in range(0, len(CLT_Data)):\n",
    "    temp_dict = CLT_Data[n]\n",
    "    temp_list1.append(int(temp_dict[\"year\"]))\n",
    "    try:\n",
    "        temp_list2.append(float(temp_dict[\"nas_delay\"]))\n",
    "    except ValueError:\n",
    "        temp_list2.append(None)"
   ]
  },
  {
   "cell_type": "markdown",
   "metadata": {},
   "source": [
    "## Putting dictionary in pandas datatable:"
   ]
  },
  {
   "cell_type": "code",
   "execution_count": 3,
   "metadata": {},
   "outputs": [],
   "source": [
    "import numpy as np\n",
    "import pandas as pd\n",
    "import matplotlib.pyplot as plt\n",
    "%matplotlib inline"
   ]
  },
  {
   "cell_type": "code",
   "execution_count": 4,
   "metadata": {},
   "outputs": [],
   "source": [
    "dict_data = {\"year\": temp_list1,\n",
    "            \"nas_delay\": temp_list2}\n",
    "\n",
    "usable_data = pd.DataFrame(data=dict_data)\n",
    "#usable_data"
   ]
  },
  {
   "cell_type": "markdown",
   "metadata": {},
   "source": [
    "## Plotting data using matplotlibs:"
   ]
  },
  {
   "cell_type": "code",
   "execution_count": 5,
   "metadata": {},
   "outputs": [],
   "source": [
    "x = usable_data.year\n",
    "y = usable_data.nas_delay"
   ]
  },
  {
   "cell_type": "code",
   "execution_count": 6,
   "metadata": {},
   "outputs": [],
   "source": [
    "#plt.scatter(x,y, marker=\"o\", alpha=0.4, s=20)\n",
    "#plt.xlabel(\"Y e a r\")\n",
    "#plt.ylabel(\"D e l a y (min)\")\n",
    "#plt.ylim(0,140000)\n",
    "#plt.xticks(np.arange(min(x), max(x)+1, 2.0))"
   ]
  },
  {
   "cell_type": "code",
   "execution_count": 7,
   "metadata": {},
   "outputs": [],
   "source": [
    "#plt.subplot(211)\n",
    "#plt.scatter(x,y, marker=\"o\", alpha=0.4, s=20)\n",
    "#plt.ylim(10000,50000)\n",
    "#plt.xlim(2015,)\n",
    "#plt.ylabel(\"D e l a y (min)\")\n",
    "#plt.xticks(np.arange(2012, 2020, 1.0))\n",
    "#top half (recent years)\n",
    "\n",
    "#plt.subplot(212)\n",
    "#plt.scatter(x,y, marker=\"o\", alpha=0.4, s=20)\n",
    "#plt.ylim(0,10000)\n",
    "#plt.xlim(2015,)\n",
    "#plt.xlabel(\"Y e a r\")\n",
    "#plt.ylabel(\"D e l a y (min)\")\n",
    "#plt.xticks(np.arange(2012, 2020, 1.0))\n",
    "#bottom half (recent years)"
   ]
  }
 ],
 "metadata": {
  "kernelspec": {
   "display_name": "Python 3",
   "language": "python",
   "name": "python3"
  },
  "language_info": {
   "codemirror_mode": {
    "name": "ipython",
    "version": 3
   },
   "file_extension": ".py",
   "mimetype": "text/x-python",
   "name": "python",
   "nbconvert_exporter": "python",
   "pygments_lexer": "ipython3",
   "version": "3.8.3"
  }
 },
 "nbformat": 4,
 "nbformat_minor": 4
}
